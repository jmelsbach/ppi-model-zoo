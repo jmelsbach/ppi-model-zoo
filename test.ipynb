{
 "cells": [
  {
   "cell_type": "code",
   "execution_count": 1,
   "metadata": {},
   "outputs": [],
   "source": [
    "import pandas as pd\n",
    "import numpy as np\n",
    "import sentencepiece as sp\n",
    "from torch.utils.data import Dataset"
   ]
  },
  {
   "cell_type": "code",
   "execution_count": 2,
   "metadata": {},
   "outputs": [
    {
     "data": {
      "text/html": [
       "<div>\n",
       "<style scoped>\n",
       "    .dataframe tbody tr th:only-of-type {\n",
       "        vertical-align: middle;\n",
       "    }\n",
       "\n",
       "    .dataframe tbody tr th {\n",
       "        vertical-align: top;\n",
       "    }\n",
       "\n",
       "    .dataframe thead th {\n",
       "        text-align: right;\n",
       "    }\n",
       "</style>\n",
       "<table border=\"1\" class=\"dataframe\">\n",
       "  <thead>\n",
       "    <tr style=\"text-align: right;\">\n",
       "      <th></th>\n",
       "      <th>uniprotID_A</th>\n",
       "      <th>uniprotID_B</th>\n",
       "      <th>isInteraction</th>\n",
       "      <th>trainTest</th>\n",
       "      <th>RNAseqHPA</th>\n",
       "      <th>tissueHPA</th>\n",
       "      <th>tissueCellHPA</th>\n",
       "      <th>subcellularLocationHPA</th>\n",
       "      <th>bioProcessUniprot</th>\n",
       "      <th>cellCompUniprot</th>\n",
       "      <th>molFuncUniprot</th>\n",
       "      <th>domainUniprot</th>\n",
       "      <th>motifUniprot</th>\n",
       "      <th>Bgee</th>\n",
       "      <th>sequence_A</th>\n",
       "      <th>sequence_B</th>\n",
       "    </tr>\n",
       "  </thead>\n",
       "  <tbody>\n",
       "    <tr>\n",
       "      <th>1</th>\n",
       "      <td>O00161</td>\n",
       "      <td>P56962</td>\n",
       "      <td>1</td>\n",
       "      <td>train</td>\n",
       "      <td>0.825131</td>\n",
       "      <td>0.851690</td>\n",
       "      <td>0.675880</td>\n",
       "      <td>0.000000</td>\n",
       "      <td>0.190693</td>\n",
       "      <td>0.200000</td>\n",
       "      <td>0.353553</td>\n",
       "      <td>0.0</td>\n",
       "      <td>0.0</td>\n",
       "      <td>0.922975</td>\n",
       "      <td>MDNLSSEEIQQRAHQITDESLESTRRILGLAIESQDAGIKTITMLD...</td>\n",
       "      <td>MSEDEEKVKLRRLEPAIQKFIKIVIPTDLERLRKHQINIEKYQRCR...</td>\n",
       "    </tr>\n",
       "    <tr>\n",
       "      <th>2</th>\n",
       "      <td>P82979</td>\n",
       "      <td>Q01081</td>\n",
       "      <td>1</td>\n",
       "      <td>train</td>\n",
       "      <td>0.930790</td>\n",
       "      <td>0.954869</td>\n",
       "      <td>0.911887</td>\n",
       "      <td>0.000000</td>\n",
       "      <td>0.547723</td>\n",
       "      <td>0.365148</td>\n",
       "      <td>0.408248</td>\n",
       "      <td>0.0</td>\n",
       "      <td>0.0</td>\n",
       "      <td>NaN</td>\n",
       "      <td>MATETVELHKLKLAELKQECLARGLETKGIKQDLIHRLQAYLEEHA...</td>\n",
       "      <td>MAEYLASIFGTEKDKVNCSFYFKIGACRHGDRCSRLHNKPTFSQTI...</td>\n",
       "    </tr>\n",
       "    <tr>\n",
       "      <th>3</th>\n",
       "      <td>O60678</td>\n",
       "      <td>Q14524</td>\n",
       "      <td>1</td>\n",
       "      <td>train</td>\n",
       "      <td>0.219384</td>\n",
       "      <td>NaN</td>\n",
       "      <td>NaN</td>\n",
       "      <td>NaN</td>\n",
       "      <td>0.000000</td>\n",
       "      <td>0.000000</td>\n",
       "      <td>0.000000</td>\n",
       "      <td>0.0</td>\n",
       "      <td>0.0</td>\n",
       "      <td>NaN</td>\n",
       "      <td>MCSLASGATGGRGAVENEEDLPELSDSGDEAAWEDEDDADLPHGKQ...</td>\n",
       "      <td>MANFLLPRGTSSFRRFTRESLAAIEKRMAEKQARGSTTLQESREGL...</td>\n",
       "    </tr>\n",
       "    <tr>\n",
       "      <th>4</th>\n",
       "      <td>P10275</td>\n",
       "      <td>Q15648</td>\n",
       "      <td>1</td>\n",
       "      <td>train</td>\n",
       "      <td>0.500558</td>\n",
       "      <td>-0.311704</td>\n",
       "      <td>-0.371061</td>\n",
       "      <td>0.000000</td>\n",
       "      <td>0.169811</td>\n",
       "      <td>0.375000</td>\n",
       "      <td>0.157895</td>\n",
       "      <td>0.0</td>\n",
       "      <td>0.0</td>\n",
       "      <td>NaN</td>\n",
       "      <td>MEVQLGLGRVYPRPPSKTYRGAFQNLFQSVREVIQNPGPRHPEAAS...</td>\n",
       "      <td>MKAQGETEESEKLSKMSSLLERLHAKFNQNRPWSETIKLVRQVMEK...</td>\n",
       "    </tr>\n",
       "    <tr>\n",
       "      <th>5</th>\n",
       "      <td>P05413</td>\n",
       "      <td>P05556</td>\n",
       "      <td>1</td>\n",
       "      <td>train</td>\n",
       "      <td>0.290361</td>\n",
       "      <td>0.340155</td>\n",
       "      <td>0.549298</td>\n",
       "      <td>0.666667</td>\n",
       "      <td>0.000000</td>\n",
       "      <td>0.096225</td>\n",
       "      <td>0.000000</td>\n",
       "      <td>0.0</td>\n",
       "      <td>0.0</td>\n",
       "      <td>0.790815</td>\n",
       "      <td>MVDAFLGTWKLVDSKNFDDYMKSLGVGFATRQVASMTKPTTIIEKN...</td>\n",
       "      <td>MNLQPIFWIGLISSVCCVFAQTDENRCLKANAKSCGECIQAGPNCG...</td>\n",
       "    </tr>\n",
       "    <tr>\n",
       "      <th>...</th>\n",
       "      <td>...</td>\n",
       "      <td>...</td>\n",
       "      <td>...</td>\n",
       "      <td>...</td>\n",
       "      <td>...</td>\n",
       "      <td>...</td>\n",
       "      <td>...</td>\n",
       "      <td>...</td>\n",
       "      <td>...</td>\n",
       "      <td>...</td>\n",
       "      <td>...</td>\n",
       "      <td>...</td>\n",
       "      <td>...</td>\n",
       "      <td>...</td>\n",
       "      <td>...</td>\n",
       "      <td>...</td>\n",
       "    </tr>\n",
       "    <tr>\n",
       "      <th>131555</th>\n",
       "      <td>P41732</td>\n",
       "      <td>Q8NBD8</td>\n",
       "      <td>0</td>\n",
       "      <td>train</td>\n",
       "      <td>0.619041</td>\n",
       "      <td>-0.160794</td>\n",
       "      <td>-0.238177</td>\n",
       "      <td>NaN</td>\n",
       "      <td>0.000000</td>\n",
       "      <td>0.000000</td>\n",
       "      <td>0.000000</td>\n",
       "      <td>0.0</td>\n",
       "      <td>0.0</td>\n",
       "      <td>0.727030</td>\n",
       "      <td>MASRRMETKPVITCLKTLLIIYSFVFWITGVILLAVGVWGKLTLGT...</td>\n",
       "      <td>MASAEPLTALSRWYLYAIHGYFCEVMFTAAWEFVVNLNWKFPGVTS...</td>\n",
       "    </tr>\n",
       "    <tr>\n",
       "      <th>131556</th>\n",
       "      <td>Q96JN2</td>\n",
       "      <td>Q96PV4</td>\n",
       "      <td>0</td>\n",
       "      <td>train</td>\n",
       "      <td>0.655477</td>\n",
       "      <td>0.841197</td>\n",
       "      <td>0.651238</td>\n",
       "      <td>NaN</td>\n",
       "      <td>0.000000</td>\n",
       "      <td>0.000000</td>\n",
       "      <td>0.000000</td>\n",
       "      <td>0.0</td>\n",
       "      <td>0.0</td>\n",
       "      <td>-0.049936</td>\n",
       "      <td>MQAMEGEVLLPALYEEEEEEEEEEEEVEEEEEQVQKGGSVGSLSVN...</td>\n",
       "      <td>MALTLLEDWCKGMDMDPRKALLIVGIPMECSEVEIQDTVKAGLQPL...</td>\n",
       "    </tr>\n",
       "    <tr>\n",
       "      <th>131557</th>\n",
       "      <td>O43169</td>\n",
       "      <td>Q9BYR5</td>\n",
       "      <td>0</td>\n",
       "      <td>train</td>\n",
       "      <td>0.071429</td>\n",
       "      <td>NaN</td>\n",
       "      <td>NaN</td>\n",
       "      <td>NaN</td>\n",
       "      <td>0.000000</td>\n",
       "      <td>0.000000</td>\n",
       "      <td>0.000000</td>\n",
       "      <td>0.0</td>\n",
       "      <td>0.0</td>\n",
       "      <td>-0.657258</td>\n",
       "      <td>MSGSMATAEASGSDGKGQEVETSVTYYRLEEVAKRNSLKELWLVIH...</td>\n",
       "      <td>MVNSCCGSVCSDQGCGLENCCRPSCCQTTCCRTTCCRPSCCVSSCC...</td>\n",
       "    </tr>\n",
       "    <tr>\n",
       "      <th>131558</th>\n",
       "      <td>Q04864</td>\n",
       "      <td>Q8WW22</td>\n",
       "      <td>0</td>\n",
       "      <td>train</td>\n",
       "      <td>0.527243</td>\n",
       "      <td>NaN</td>\n",
       "      <td>NaN</td>\n",
       "      <td>NaN</td>\n",
       "      <td>0.000000</td>\n",
       "      <td>0.316228</td>\n",
       "      <td>0.000000</td>\n",
       "      <td>0.0</td>\n",
       "      <td>0.0</td>\n",
       "      <td>NaN</td>\n",
       "      <td>MASGAYNPYIEIIEQPRQRGMRFRYKCEGRSAGSIPGEHSTDNNRT...</td>\n",
       "      <td>MVKETQYYDILGVKPSASPEEIKKAYRKLALKYHPDKNPDEGEKFK...</td>\n",
       "    </tr>\n",
       "    <tr>\n",
       "      <th>131559</th>\n",
       "      <td>Q8TED1</td>\n",
       "      <td>Q9NRD5</td>\n",
       "      <td>0</td>\n",
       "      <td>train</td>\n",
       "      <td>0.547987</td>\n",
       "      <td>0.175292</td>\n",
       "      <td>-0.077629</td>\n",
       "      <td>0.577350</td>\n",
       "      <td>0.000000</td>\n",
       "      <td>0.000000</td>\n",
       "      <td>0.000000</td>\n",
       "      <td>0.0</td>\n",
       "      <td>0.0</td>\n",
       "      <td>NaN</td>\n",
       "      <td>MEPLAAYPLKCSGPRAKVFAVLLSIVLCTVTLFLLQLKFLKPKINS...</td>\n",
       "      <td>MFADLDYDIEEDKLGIPTVPGKVTLQKDAQNLIGISIGGGAQYCPC...</td>\n",
       "    </tr>\n",
       "  </tbody>\n",
       "</table>\n",
       "<p>106662 rows × 16 columns</p>\n",
       "</div>"
      ],
      "text/plain": [
       "       uniprotID_A uniprotID_B  isInteraction trainTest  RNAseqHPA  tissueHPA  \\\n",
       "1           O00161      P56962              1     train   0.825131   0.851690   \n",
       "2           P82979      Q01081              1     train   0.930790   0.954869   \n",
       "3           O60678      Q14524              1     train   0.219384        NaN   \n",
       "4           P10275      Q15648              1     train   0.500558  -0.311704   \n",
       "5           P05413      P05556              1     train   0.290361   0.340155   \n",
       "...            ...         ...            ...       ...        ...        ...   \n",
       "131555      P41732      Q8NBD8              0     train   0.619041  -0.160794   \n",
       "131556      Q96JN2      Q96PV4              0     train   0.655477   0.841197   \n",
       "131557      O43169      Q9BYR5              0     train   0.071429        NaN   \n",
       "131558      Q04864      Q8WW22              0     train   0.527243        NaN   \n",
       "131559      Q8TED1      Q9NRD5              0     train   0.547987   0.175292   \n",
       "\n",
       "        tissueCellHPA  subcellularLocationHPA  bioProcessUniprot  \\\n",
       "1            0.675880                0.000000           0.190693   \n",
       "2            0.911887                0.000000           0.547723   \n",
       "3                 NaN                     NaN           0.000000   \n",
       "4           -0.371061                0.000000           0.169811   \n",
       "5            0.549298                0.666667           0.000000   \n",
       "...               ...                     ...                ...   \n",
       "131555      -0.238177                     NaN           0.000000   \n",
       "131556       0.651238                     NaN           0.000000   \n",
       "131557            NaN                     NaN           0.000000   \n",
       "131558            NaN                     NaN           0.000000   \n",
       "131559      -0.077629                0.577350           0.000000   \n",
       "\n",
       "        cellCompUniprot  molFuncUniprot  domainUniprot  motifUniprot  \\\n",
       "1              0.200000        0.353553            0.0           0.0   \n",
       "2              0.365148        0.408248            0.0           0.0   \n",
       "3              0.000000        0.000000            0.0           0.0   \n",
       "4              0.375000        0.157895            0.0           0.0   \n",
       "5              0.096225        0.000000            0.0           0.0   \n",
       "...                 ...             ...            ...           ...   \n",
       "131555         0.000000        0.000000            0.0           0.0   \n",
       "131556         0.000000        0.000000            0.0           0.0   \n",
       "131557         0.000000        0.000000            0.0           0.0   \n",
       "131558         0.316228        0.000000            0.0           0.0   \n",
       "131559         0.000000        0.000000            0.0           0.0   \n",
       "\n",
       "            Bgee                                         sequence_A  \\\n",
       "1       0.922975  MDNLSSEEIQQRAHQITDESLESTRRILGLAIESQDAGIKTITMLD...   \n",
       "2            NaN  MATETVELHKLKLAELKQECLARGLETKGIKQDLIHRLQAYLEEHA...   \n",
       "3            NaN  MCSLASGATGGRGAVENEEDLPELSDSGDEAAWEDEDDADLPHGKQ...   \n",
       "4            NaN  MEVQLGLGRVYPRPPSKTYRGAFQNLFQSVREVIQNPGPRHPEAAS...   \n",
       "5       0.790815  MVDAFLGTWKLVDSKNFDDYMKSLGVGFATRQVASMTKPTTIIEKN...   \n",
       "...          ...                                                ...   \n",
       "131555  0.727030  MASRRMETKPVITCLKTLLIIYSFVFWITGVILLAVGVWGKLTLGT...   \n",
       "131556 -0.049936  MQAMEGEVLLPALYEEEEEEEEEEEEVEEEEEQVQKGGSVGSLSVN...   \n",
       "131557 -0.657258  MSGSMATAEASGSDGKGQEVETSVTYYRLEEVAKRNSLKELWLVIH...   \n",
       "131558       NaN  MASGAYNPYIEIIEQPRQRGMRFRYKCEGRSAGSIPGEHSTDNNRT...   \n",
       "131559       NaN  MEPLAAYPLKCSGPRAKVFAVLLSIVLCTVTLFLLQLKFLKPKINS...   \n",
       "\n",
       "                                               sequence_B  \n",
       "1       MSEDEEKVKLRRLEPAIQKFIKIVIPTDLERLRKHQINIEKYQRCR...  \n",
       "2       MAEYLASIFGTEKDKVNCSFYFKIGACRHGDRCSRLHNKPTFSQTI...  \n",
       "3       MANFLLPRGTSSFRRFTRESLAAIEKRMAEKQARGSTTLQESREGL...  \n",
       "4       MKAQGETEESEKLSKMSSLLERLHAKFNQNRPWSETIKLVRQVMEK...  \n",
       "5       MNLQPIFWIGLISSVCCVFAQTDENRCLKANAKSCGECIQAGPNCG...  \n",
       "...                                                   ...  \n",
       "131555  MASAEPLTALSRWYLYAIHGYFCEVMFTAAWEFVVNLNWKFPGVTS...  \n",
       "131556  MALTLLEDWCKGMDMDPRKALLIVGIPMECSEVEIQDTVKAGLQPL...  \n",
       "131557  MVNSCCGSVCSDQGCGLENCCRPSCCQTTCCRTTCCRPSCCVSSCC...  \n",
       "131558  MVKETQYYDILGVKPSASPEEIKKAYRKLALKYHPDKNPDEGEKFK...  \n",
       "131559  MFADLDYDIEEDKLGIPTVPGKVTLQKDAQNLIGISIGGGAQYCPC...  \n",
       "\n",
       "[106662 rows x 16 columns]"
      ]
     },
     "execution_count": 2,
     "metadata": {},
     "output_type": "execute_result"
    }
   ],
   "source": [
    "data = pd.read_csv(\".data/benchmarkingGS_v1-0_similarityMeasure_sequence_v3-1.csv\")\n",
    "data[data['trainTest'] == 'train']"
   ]
  },
  {
   "cell_type": "code",
   "execution_count": 6,
   "metadata": {},
   "outputs": [
    {
     "data": {
      "text/plain": [
       "<bound method NDFrame.describe of        uniprotID_A uniprotID_B  isInteraction trainTest  RNAseqHPA  tissueHPA  \\\n",
       "0           P28223      P41595              1     test2   0.160188  -0.449930   \n",
       "1           O00161      P56962              1     train   0.825131   0.851690   \n",
       "2           P82979      Q01081              1     train   0.930790   0.954869   \n",
       "3           O60678      Q14524              1     train   0.219384        NaN   \n",
       "4           P10275      Q15648              1     train   0.500558  -0.311704   \n",
       "...            ...         ...            ...       ...        ...        ...   \n",
       "268494      O95678      Q8IYX3              0     test2   0.022646        NaN   \n",
       "268495      O95835      Q8WUJ0              0     test2   0.854290        NaN   \n",
       "268496      P60409      Q9NUB4              0     test2   0.894159        NaN   \n",
       "268497      O43294      Q6ZRT6              0     test2   0.062636        NaN   \n",
       "268498      P36405      P36639              0     test2   0.566853   0.939820   \n",
       "\n",
       "        tissueCellHPA  subcellularLocationHPA  bioProcessUniprot  \\\n",
       "0           -0.060381                     NaN           0.400892   \n",
       "1            0.675880                0.000000           0.190693   \n",
       "2            0.911887                0.000000           0.547723   \n",
       "3                 NaN                     NaN           0.000000   \n",
       "4           -0.371061                0.000000           0.169811   \n",
       "...               ...                     ...                ...   \n",
       "268494            NaN                     NaN           0.000000   \n",
       "268495            NaN                     NaN           0.000000   \n",
       "268496            NaN                     NaN           0.000000   \n",
       "268497            NaN                0.288675           0.000000   \n",
       "268498       0.688750                0.000000           0.000000   \n",
       "\n",
       "        cellCompUniprot  molFuncUniprot  domainUniprot  motifUniprot  \\\n",
       "0              0.404061        0.680414            0.0      0.790569   \n",
       "1              0.200000        0.353553            0.0      0.000000   \n",
       "2              0.365148        0.408248            0.0      0.000000   \n",
       "3              0.000000        0.000000            0.0      0.000000   \n",
       "4              0.375000        0.157895            0.0      0.000000   \n",
       "...                 ...             ...            ...           ...   \n",
       "268494         0.000000        0.000000            0.0      0.000000   \n",
       "268495         0.447214        0.000000            0.0      0.000000   \n",
       "268496         0.000000        0.000000            0.0      0.000000   \n",
       "268497         0.000000        0.000000            0.0      0.000000   \n",
       "268498         0.184900        0.000000            0.0      0.000000   \n",
       "\n",
       "            Bgee                                         sequence_A  \\\n",
       "0       0.422078  MDILCEENTSLSSTTNSLMQLNDDTRLYSNDFNSGEANTSDAFNWT...   \n",
       "1       0.922975  MDNLSSEEIQQRAHQITDESLESTRRILGLAIESQDAGIKTITMLD...   \n",
       "2            NaN  MATETVELHKLKLAELKQECLARGLETKGIKQDLIHRLQAYLEEHA...   \n",
       "3            NaN  MCSLASGATGGRGAVENEEDLPELSDSGDEAAWEDEDDADLPHGKQ...   \n",
       "4            NaN  MEVQLGLGRVYPRPPSKTYRGAFQNLFQSVREVIQNPGPRHPEAAS...   \n",
       "...          ...                                                ...   \n",
       "268494       NaN  MSRQSSITFQSGSRRGFSTTSAITPAAGRSRFSSVSVARSAAGSGG...   \n",
       "268495  0.930655  MKRSEKPEGYRQMRPKTFPASNYTVSSRQMLQEIRESLRNLSKPSD...   \n",
       "268496       NaN  MAASTMSVCSSDLSYGSRVCLPGSCDSCSDSWQVDDCPESCCEPPC...   \n",
       "268497 -0.606365  MEDLDALLSDLETTTSHMPRSGAPKERPAEPLTPPPSYGHQPQTGS...   \n",
       "268498       NaN  MGLLSILRKLKSAPDQEVRILLLGLDNAGKTTLLKQLASEDISHIT...   \n",
       "\n",
       "                                               sequence_B  \n",
       "0       MALSYRVSELQSTIPEHILQSTFVHVISSNWSGLQTESIPEEMKQI...  \n",
       "1       MSEDEEKVKLRRLEPAIQKFIKIVIPTDLERLRKHQINIEKYQRCR...  \n",
       "2       MAEYLASIFGTEKDKVNCSFYFKIGACRHGDRCSRLHNKPTFSQTI...  \n",
       "3       MANFLLPRGTSSFRRFTRESLAAIEKRMAEKQARGSTTLQESREGL...  \n",
       "4       MKAQGETEESEKLSKMSSLLERLHAKFNQNRPWSETIKLVRQVMEK...  \n",
       "...                                                   ...  \n",
       "268494  MARCRHHSGYLADDEASHSMCSARVQLPKKPLVPEMRPACKPGRVP...  \n",
       "268495  MEDVKLEFPSLPQCKEDAEEWTYPMRREMQEILPGLFLGPYSSAMK...  \n",
       "268496  MTRLCLPRPEAREDPIPVPPRGLGAGEGSGSPVRPPVSTWGPSWAQ...  \n",
       "268497  MVSRPRSPSAFPAPWWGQQPGGPGPAKRLRLEEPAGPEPRAAPSLE...  \n",
       "268498  MYWSNQITRRLGERVQGFMSGISPQQMGEPEGSWSGKNPGTMGASR...  \n",
       "\n",
       "[268499 rows x 16 columns]>"
      ]
     },
     "execution_count": 6,
     "metadata": {},
     "output_type": "execute_result"
    }
   ],
   "source": [
    "data.describe"
   ]
  },
  {
   "cell_type": "code",
   "execution_count": 7,
   "metadata": {},
   "outputs": [
    {
     "data": {
      "text/plain": [
       "'MDILCEENTSLSSTTNSLMQLNDDTRLYSNDFNSGEANTSDAFNWTVDSENRTNLSCEGCLSPSCLSLLHLQEKNWSALLTAVVIILTIAGNILVIMAVSLEKKLQNATNYFLMSLAIADMLLGFLVMPVSMLTILYGYRWPLPSKLCAVWIYLDVLFSTASIMHLCAISLDRYVAIQNPIHHSRFNSRTKAFLKIIAVWTISVGISMPIPVFGLQDDSKVFKEGSCLLADDNFVLIGSFVSFFIPLTIMVITYFLTIKSLQKEATLCVSDLGTRAKLASFSFLPQSSLSSEKLFQRSIHREPGSYTGRRTMQSISNEQKACKVLGIVFFLFVVMWCPFFITNIMAVICKESCNEDVIGALLNVFVWIGYLSSAVNPLVYTLFNKTYRSAFSRYIQCQYKENKKPLQLILVNTIPALAYKSSQLQMGQKKNSKQDAKTTDNDCSMVALGKQHSEEASKDNSDGVNEKVSCV'"
      ]
     },
     "execution_count": 7,
     "metadata": {},
     "output_type": "execute_result"
    }
   ],
   "source": [
    "data[\"sequence_A\"].iloc[1]"
   ]
  },
  {
   "cell_type": "code",
   "execution_count": 2,
   "metadata": {},
   "outputs": [],
   "source": [
    "metrics = pd.read_csv(\"lightning_logs/version_238/metrics.csv\")"
   ]
  },
  {
   "cell_type": "code",
   "execution_count": 3,
   "metadata": {},
   "outputs": [
    {
     "data": {
      "text/html": [
       "<div>\n",
       "<style scoped>\n",
       "    .dataframe tbody tr th:only-of-type {\n",
       "        vertical-align: middle;\n",
       "    }\n",
       "\n",
       "    .dataframe tbody tr th {\n",
       "        vertical-align: top;\n",
       "    }\n",
       "\n",
       "    .dataframe thead th {\n",
       "        text-align: right;\n",
       "    }\n",
       "</style>\n",
       "<table border=\"1\" class=\"dataframe\">\n",
       "  <thead>\n",
       "    <tr style=\"text-align: right;\">\n",
       "      <th></th>\n",
       "      <th>acc</th>\n",
       "      <th>apr</th>\n",
       "      <th>auroc</th>\n",
       "      <th>epoch</th>\n",
       "      <th>step</th>\n",
       "      <th>train_loss</th>\n",
       "      <th>train_loss_step</th>\n",
       "      <th>val_loss</th>\n",
       "    </tr>\n",
       "  </thead>\n",
       "  <tbody>\n",
       "    <tr>\n",
       "      <th>0</th>\n",
       "      <td>0.6375</td>\n",
       "      <td>NaN</td>\n",
       "      <td>NaN</td>\n",
       "      <td>0</td>\n",
       "      <td>49</td>\n",
       "      <td>NaN</td>\n",
       "      <td>0.685881</td>\n",
       "      <td>NaN</td>\n",
       "    </tr>\n",
       "    <tr>\n",
       "      <th>1</th>\n",
       "      <td>0.5250</td>\n",
       "      <td>NaN</td>\n",
       "      <td>NaN</td>\n",
       "      <td>0</td>\n",
       "      <td>99</td>\n",
       "      <td>NaN</td>\n",
       "      <td>0.681449</td>\n",
       "      <td>NaN</td>\n",
       "    </tr>\n",
       "    <tr>\n",
       "      <th>2</th>\n",
       "      <td>0.5625</td>\n",
       "      <td>NaN</td>\n",
       "      <td>NaN</td>\n",
       "      <td>0</td>\n",
       "      <td>149</td>\n",
       "      <td>NaN</td>\n",
       "      <td>0.682561</td>\n",
       "      <td>NaN</td>\n",
       "    </tr>\n",
       "    <tr>\n",
       "      <th>3</th>\n",
       "      <td>0.6000</td>\n",
       "      <td>NaN</td>\n",
       "      <td>NaN</td>\n",
       "      <td>0</td>\n",
       "      <td>199</td>\n",
       "      <td>NaN</td>\n",
       "      <td>0.671231</td>\n",
       "      <td>NaN</td>\n",
       "    </tr>\n",
       "    <tr>\n",
       "      <th>4</th>\n",
       "      <td>0.5000</td>\n",
       "      <td>NaN</td>\n",
       "      <td>NaN</td>\n",
       "      <td>0</td>\n",
       "      <td>249</td>\n",
       "      <td>NaN</td>\n",
       "      <td>0.715683</td>\n",
       "      <td>NaN</td>\n",
       "    </tr>\n",
       "    <tr>\n",
       "      <th>...</th>\n",
       "      <td>...</td>\n",
       "      <td>...</td>\n",
       "      <td>...</td>\n",
       "      <td>...</td>\n",
       "      <td>...</td>\n",
       "      <td>...</td>\n",
       "      <td>...</td>\n",
       "      <td>...</td>\n",
       "    </tr>\n",
       "    <tr>\n",
       "      <th>165</th>\n",
       "      <td>0.6750</td>\n",
       "      <td>NaN</td>\n",
       "      <td>NaN</td>\n",
       "      <td>3</td>\n",
       "      <td>7999</td>\n",
       "      <td>NaN</td>\n",
       "      <td>0.626401</td>\n",
       "      <td>NaN</td>\n",
       "    </tr>\n",
       "    <tr>\n",
       "      <th>166</th>\n",
       "      <td>0.8000</td>\n",
       "      <td>NaN</td>\n",
       "      <td>NaN</td>\n",
       "      <td>3</td>\n",
       "      <td>8049</td>\n",
       "      <td>NaN</td>\n",
       "      <td>0.542160</td>\n",
       "      <td>NaN</td>\n",
       "    </tr>\n",
       "    <tr>\n",
       "      <th>167</th>\n",
       "      <td>0.7125</td>\n",
       "      <td>NaN</td>\n",
       "      <td>NaN</td>\n",
       "      <td>3</td>\n",
       "      <td>8099</td>\n",
       "      <td>NaN</td>\n",
       "      <td>0.574199</td>\n",
       "      <td>NaN</td>\n",
       "    </tr>\n",
       "    <tr>\n",
       "      <th>168</th>\n",
       "      <td>0.7125</td>\n",
       "      <td>NaN</td>\n",
       "      <td>NaN</td>\n",
       "      <td>3</td>\n",
       "      <td>8149</td>\n",
       "      <td>NaN</td>\n",
       "      <td>0.572982</td>\n",
       "      <td>NaN</td>\n",
       "    </tr>\n",
       "    <tr>\n",
       "      <th>169</th>\n",
       "      <td>0.6375</td>\n",
       "      <td>NaN</td>\n",
       "      <td>NaN</td>\n",
       "      <td>3</td>\n",
       "      <td>8199</td>\n",
       "      <td>NaN</td>\n",
       "      <td>0.640609</td>\n",
       "      <td>NaN</td>\n",
       "    </tr>\n",
       "  </tbody>\n",
       "</table>\n",
       "<p>170 rows × 8 columns</p>\n",
       "</div>"
      ],
      "text/plain": [
       "        acc  apr  auroc  epoch  step  train_loss  train_loss_step  val_loss\n",
       "0    0.6375  NaN    NaN      0    49         NaN         0.685881       NaN\n",
       "1    0.5250  NaN    NaN      0    99         NaN         0.681449       NaN\n",
       "2    0.5625  NaN    NaN      0   149         NaN         0.682561       NaN\n",
       "3    0.6000  NaN    NaN      0   199         NaN         0.671231       NaN\n",
       "4    0.5000  NaN    NaN      0   249         NaN         0.715683       NaN\n",
       "..      ...  ...    ...    ...   ...         ...              ...       ...\n",
       "165  0.6750  NaN    NaN      3  7999         NaN         0.626401       NaN\n",
       "166  0.8000  NaN    NaN      3  8049         NaN         0.542160       NaN\n",
       "167  0.7125  NaN    NaN      3  8099         NaN         0.574199       NaN\n",
       "168  0.7125  NaN    NaN      3  8149         NaN         0.572982       NaN\n",
       "169  0.6375  NaN    NaN      3  8199         NaN         0.640609       NaN\n",
       "\n",
       "[170 rows x 8 columns]"
      ]
     },
     "execution_count": 3,
     "metadata": {},
     "output_type": "execute_result"
    }
   ],
   "source": [
    "metrics"
   ]
  },
  {
   "cell_type": "code",
   "execution_count": 4,
   "metadata": {},
   "outputs": [
    {
     "ename": "KeyError",
     "evalue": "\"None of [Float64Index([nan, nan, nan, nan, nan, nan, nan, nan, nan, nan,\\n              ...\\n              nan, nan, nan, nan, nan, nan, nan, nan, nan, nan],\\n             dtype='float64', length=170)] are in the [columns]\"",
     "output_type": "error",
     "traceback": [
      "\u001b[0;31m---------------------------------------------------------------------------\u001b[0m",
      "\u001b[0;31mKeyError\u001b[0m                                  Traceback (most recent call last)",
      "Cell \u001b[0;32mIn[4], line 1\u001b[0m\n\u001b[0;32m----> 1\u001b[0m \u001b[43mmetrics\u001b[49m\u001b[43m[\u001b[49m\u001b[43mmetrics\u001b[49m\u001b[43m[\u001b[49m\u001b[38;5;124;43m'\u001b[39;49m\u001b[38;5;124;43mtrain_loss\u001b[39;49m\u001b[38;5;124;43m'\u001b[39;49m\u001b[43m]\u001b[49m\u001b[43m]\u001b[49m\n",
      "File \u001b[0;32m~/.cache/pypoetry/virtualenvs/ppi-model-zoo-i22TXm07-py3.12/lib/python3.12/site-packages/pandas/core/frame.py:3813\u001b[0m, in \u001b[0;36mDataFrame.__getitem__\u001b[0;34m(self, key)\u001b[0m\n\u001b[1;32m   3811\u001b[0m     \u001b[38;5;28;01mif\u001b[39;00m is_iterator(key):\n\u001b[1;32m   3812\u001b[0m         key \u001b[38;5;241m=\u001b[39m \u001b[38;5;28mlist\u001b[39m(key)\n\u001b[0;32m-> 3813\u001b[0m     indexer \u001b[38;5;241m=\u001b[39m \u001b[38;5;28;43mself\u001b[39;49m\u001b[38;5;241;43m.\u001b[39;49m\u001b[43mcolumns\u001b[49m\u001b[38;5;241;43m.\u001b[39;49m\u001b[43m_get_indexer_strict\u001b[49m\u001b[43m(\u001b[49m\u001b[43mkey\u001b[49m\u001b[43m,\u001b[49m\u001b[43m \u001b[49m\u001b[38;5;124;43m\"\u001b[39;49m\u001b[38;5;124;43mcolumns\u001b[39;49m\u001b[38;5;124;43m\"\u001b[39;49m\u001b[43m)\u001b[49m[\u001b[38;5;241m1\u001b[39m]\n\u001b[1;32m   3815\u001b[0m \u001b[38;5;66;03m# take() does not accept boolean indexers\u001b[39;00m\n\u001b[1;32m   3816\u001b[0m \u001b[38;5;28;01mif\u001b[39;00m \u001b[38;5;28mgetattr\u001b[39m(indexer, \u001b[38;5;124m\"\u001b[39m\u001b[38;5;124mdtype\u001b[39m\u001b[38;5;124m\"\u001b[39m, \u001b[38;5;28;01mNone\u001b[39;00m) \u001b[38;5;241m==\u001b[39m \u001b[38;5;28mbool\u001b[39m:\n",
      "File \u001b[0;32m~/.cache/pypoetry/virtualenvs/ppi-model-zoo-i22TXm07-py3.12/lib/python3.12/site-packages/pandas/core/indexes/base.py:6070\u001b[0m, in \u001b[0;36mIndex._get_indexer_strict\u001b[0;34m(self, key, axis_name)\u001b[0m\n\u001b[1;32m   6067\u001b[0m \u001b[38;5;28;01melse\u001b[39;00m:\n\u001b[1;32m   6068\u001b[0m     keyarr, indexer, new_indexer \u001b[38;5;241m=\u001b[39m \u001b[38;5;28mself\u001b[39m\u001b[38;5;241m.\u001b[39m_reindex_non_unique(keyarr)\n\u001b[0;32m-> 6070\u001b[0m \u001b[38;5;28;43mself\u001b[39;49m\u001b[38;5;241;43m.\u001b[39;49m\u001b[43m_raise_if_missing\u001b[49m\u001b[43m(\u001b[49m\u001b[43mkeyarr\u001b[49m\u001b[43m,\u001b[49m\u001b[43m \u001b[49m\u001b[43mindexer\u001b[49m\u001b[43m,\u001b[49m\u001b[43m \u001b[49m\u001b[43maxis_name\u001b[49m\u001b[43m)\u001b[49m\n\u001b[1;32m   6072\u001b[0m keyarr \u001b[38;5;241m=\u001b[39m \u001b[38;5;28mself\u001b[39m\u001b[38;5;241m.\u001b[39mtake(indexer)\n\u001b[1;32m   6073\u001b[0m \u001b[38;5;28;01mif\u001b[39;00m \u001b[38;5;28misinstance\u001b[39m(key, Index):\n\u001b[1;32m   6074\u001b[0m     \u001b[38;5;66;03m# GH 42790 - Preserve name from an Index\u001b[39;00m\n",
      "File \u001b[0;32m~/.cache/pypoetry/virtualenvs/ppi-model-zoo-i22TXm07-py3.12/lib/python3.12/site-packages/pandas/core/indexes/base.py:6130\u001b[0m, in \u001b[0;36mIndex._raise_if_missing\u001b[0;34m(self, key, indexer, axis_name)\u001b[0m\n\u001b[1;32m   6128\u001b[0m     \u001b[38;5;28;01mif\u001b[39;00m use_interval_msg:\n\u001b[1;32m   6129\u001b[0m         key \u001b[38;5;241m=\u001b[39m \u001b[38;5;28mlist\u001b[39m(key)\n\u001b[0;32m-> 6130\u001b[0m     \u001b[38;5;28;01mraise\u001b[39;00m \u001b[38;5;167;01mKeyError\u001b[39;00m(\u001b[38;5;124mf\u001b[39m\u001b[38;5;124m\"\u001b[39m\u001b[38;5;124mNone of [\u001b[39m\u001b[38;5;132;01m{\u001b[39;00mkey\u001b[38;5;132;01m}\u001b[39;00m\u001b[38;5;124m] are in the [\u001b[39m\u001b[38;5;132;01m{\u001b[39;00maxis_name\u001b[38;5;132;01m}\u001b[39;00m\u001b[38;5;124m]\u001b[39m\u001b[38;5;124m\"\u001b[39m)\n\u001b[1;32m   6132\u001b[0m not_found \u001b[38;5;241m=\u001b[39m \u001b[38;5;28mlist\u001b[39m(ensure_index(key)[missing_mask\u001b[38;5;241m.\u001b[39mnonzero()[\u001b[38;5;241m0\u001b[39m]]\u001b[38;5;241m.\u001b[39munique())\n\u001b[1;32m   6133\u001b[0m \u001b[38;5;28;01mraise\u001b[39;00m \u001b[38;5;167;01mKeyError\u001b[39;00m(\u001b[38;5;124mf\u001b[39m\u001b[38;5;124m\"\u001b[39m\u001b[38;5;132;01m{\u001b[39;00mnot_found\u001b[38;5;132;01m}\u001b[39;00m\u001b[38;5;124m not in index\u001b[39m\u001b[38;5;124m\"\u001b[39m)\n",
      "\u001b[0;31mKeyError\u001b[0m: \"None of [Float64Index([nan, nan, nan, nan, nan, nan, nan, nan, nan, nan,\\n              ...\\n              nan, nan, nan, nan, nan, nan, nan, nan, nan, nan],\\n             dtype='float64', length=170)] are in the [columns]\""
     ]
    }
   ],
   "source": [
    "metrics[metrics['train_loss']]"
   ]
  },
  {
   "cell_type": "code",
   "execution_count": null,
   "metadata": {},
   "outputs": [],
   "source": []
  },
  {
   "cell_type": "markdown",
   "metadata": {},
   "source": [
    "# Prepare Dataset"
   ]
  },
  {
   "cell_type": "markdown",
   "metadata": {},
   "source": [
    "First RAPPPID creates list of integers for given AS-Sequence"
   ]
  },
  {
   "cell_type": "code",
   "execution_count": 12,
   "metadata": {},
   "outputs": [],
   "source": [
    "def get_aa_code(aa):\n",
    "    # Codes based on IUPAC-IUB\n",
    "    # https://web.expasy.org/docs/userman.html#AA_codes\n",
    "\n",
    "    aas = ['PAD', 'A', 'R', 'N', 'D', 'C', 'Q', 'E', 'G', 'H', 'I', 'L', 'K', 'M', 'F', 'P', 'S', 'T', 'W', 'Y', 'V', 'O', 'U']\n",
    "    wobble_aas = {\n",
    "        'B': ['D', 'N'],\n",
    "        'Z': ['Q', 'E'],\n",
    "        'X': ['A', 'R', 'N', 'D', 'C', 'Q', 'E', 'G', 'H', 'I', 'L', 'K', 'M', 'F', 'P', 'S', 'T', 'W', 'Y', 'V']\n",
    "    }\n",
    "\n",
    "    if aa in aas:\n",
    "        return aas.index(aa)\n",
    "\n",
    "    elif aa in ['B', 'Z', 'X']:\n",
    "        # Wobble\n",
    "        idx = randint(0, len(wobble_aas[aa])-1)\n",
    "        return aas.index(wobble_aas[aa][idx])\n",
    "\n",
    "def encode_seq(seq):\n",
    "    return [get_aa_code(aa) for aa in seq]"
   ]
  },
  {
   "cell_type": "code",
   "execution_count": 13,
   "metadata": {},
   "outputs": [],
   "source": [
    "# input\n",
    "protein = 'MRPSGTAGAALLALL'"
   ]
  },
  {
   "cell_type": "code",
   "execution_count": 14,
   "metadata": {},
   "outputs": [
    {
     "data": {
      "text/plain": [
       "[13, 2, 15, 16, 8, 17, 1, 8, 1, 1, 11, 11, 1, 11, 11]"
      ]
     },
     "execution_count": 14,
     "metadata": {},
     "output_type": "execute_result"
    }
   ],
   "source": [
    "# outout\n",
    "token1 = encode_seq(protein)\n",
    "token1"
   ]
  },
  {
   "cell_type": "markdown",
   "metadata": {},
   "source": [
    "These list of integers is then saved"
   ]
  },
  {
   "cell_type": "markdown",
   "metadata": {},
   "source": [
    "## Example SentencePieceTokenizer"
   ]
  },
  {
   "cell_type": "markdown",
   "metadata": {},
   "source": [
    "Converts sequence string into list of integers"
   ]
  },
  {
   "cell_type": "code",
   "execution_count": 15,
   "metadata": {},
   "outputs": [],
   "source": [
    "import sentencepiece as sp\n",
    "tokenizer_file = 'scripts/rapppid/spm.model'\n",
    "tokenizer = sp.SentencePieceProcessor(model_file=tokenizer_file)"
   ]
  },
  {
   "cell_type": "code",
   "execution_count": 17,
   "metadata": {},
   "outputs": [
    {
     "data": {
      "text/plain": [
       "'MRPSGTAGAALLALL'"
      ]
     },
     "execution_count": 17,
     "metadata": {},
     "output_type": "execute_result"
    }
   ],
   "source": [
    "protein"
   ]
  },
  {
   "cell_type": "code",
   "execution_count": 24,
   "metadata": {},
   "outputs": [
    {
     "data": {
      "text/plain": [
       "array([ 96,  22,  23,   9,  19, 112,  64,   5,   7,   7,  29,   7])"
      ]
     },
     "execution_count": 24,
     "metadata": {},
     "output_type": "execute_result"
    }
   ],
   "source": [
    "tokens = np.array(tokenizer.encode(protein, enable_sampling=True, alpha=0.1, nbest_size=-1))\n",
    "tokens"
   ]
  },
  {
   "cell_type": "markdown",
   "metadata": {},
   "source": [
    "# Lightning Dataset"
   ]
  },
  {
   "cell_type": "markdown",
   "metadata": {},
   "source": [
    "tokenizes given AS-Sequence (String) \n"
   ]
  },
  {
   "cell_type": "code",
   "execution_count": 4,
   "metadata": {},
   "outputs": [],
   "source": [
    "class RapppidDataset(Dataset):\n",
    "    def __init__(self, rows, seqs, model_file, trunc_len=1000, vocab_size=2000):\n",
    "        super().__init__()\n",
    "        \t\n",
    "        self.rows = rows\n",
    "        self.seqs = seqs\n",
    "        self.trunc_len = trunc_len\n",
    "\n",
    "        self.spp = sp.SentencePieceProcessor(model_file=model_file)\n",
    "\n",
    "    @staticmethod\n",
    "    def static_encode(trunc_len: int, spp, seq: str, sp: bool = True, pad: bool = True):\n",
    "        aas = ['PAD', 'A', 'R', 'N', 'D', 'C', 'Q', 'E', 'G', 'H', 'I', 'L', 'K', 'M', 'F', 'P', 'S', 'T', 'W', 'Y', 'V', 'O', 'U']\n",
    "\n",
    "        toks = \"\".join([aas[r] for r in seq[:trunc_len]])\n",
    "        \n",
    "        if sp:\n",
    "                toks = np.array(spp.encode(toks, enable_sampling=True, alpha=0.1, nbest_size=-1))\n",
    "        if pad:\n",
    "             pad_len = trunc_len - len(toks)\n",
    "             toks = np.pad(toks, (0, pad_len), 'constant')\n",
    "\n",
    "        return toks\n",
    "\n",
    "    def encode(self, seq: str, sp: bool = True, pad: bool = True):\n",
    "\n",
    "        aas = ['PAD', 'A', 'R', 'N', 'D', 'C', 'Q', 'E', 'G', 'H', 'I', 'L', 'K', 'M', 'F', 'P', 'S', 'T', 'W', 'Y', 'V', 'O', 'U']\n",
    "\n",
    "        toks = \"\".join([aas[r] for r in seq[:self.trunc_len]])\n",
    "        \n",
    "        if sp:\n",
    "                toks = np.array(self.spp.encode(toks, enable_sampling=True, alpha=0.1, nbest_size=-1))\n",
    "        if pad:\n",
    "             pad_len = self.trunc_len - len(toks)\n",
    "             toks = np.pad(toks, (0, pad_len), 'constant')\n",
    "\n",
    "        return toks\n",
    "\n",
    "    def __getitem__(self, idx):\n",
    "\n",
    "        p1, p2, label = self.rows[idx]\n",
    "\n",
    "        p1_seq = self.encode(self.seqs[p1], sp=True, pad=True)\n",
    "\n",
    "        p2_seq = self.encode(self.seqs[p2], sp=True, pad=True)\n",
    "\n",
    "        p1_seq = torch.tensor(p1_seq).long()\n",
    "        p2_seq = torch.tensor(p2_seq).long()\n",
    "        label = torch.tensor(label).long()\n",
    "\n",
    "        return (p1_seq, p2_seq, label)\n",
    "\n",
    "    def __len__(self):\n",
    "        return len(self.rows)"
   ]
  },
  {
   "cell_type": "code",
   "execution_count": 48,
   "metadata": {},
   "outputs": [],
   "source": [
    "spp = sp.SentencePieceProcessor(model_file='scripts/rapppid/spm.model')"
   ]
  },
  {
   "cell_type": "code",
   "execution_count": 55,
   "metadata": {},
   "outputs": [],
   "source": [
    " # method within Datset class\n",
    " def encode(seq: str, sp: bool = True, pad: bool = False):\n",
    "\n",
    "        # aas = ['PAD', 'A', 'R', 'N', 'D', 'C', 'Q', 'E', 'G', 'H', 'I', 'L', 'K', 'M', 'F', 'P', 'S', 'T', 'W', 'Y', 'V', 'O', 'U']\n",
    "\n",
    "        # toks = \"\".join([aas[r] for r in seq])\n",
    "        # print(toks)\n",
    "\n",
    "        toks = seq\n",
    "        \n",
    "        if sp:\n",
    "                toks = np.array(spp.encode(toks, enable_sampling=True, alpha=0.1, nbest_size=-1))\n",
    "        if pad:\n",
    "             pad_len = trunc_len - len(toks)\n",
    "             toks = np.pad(toks, (0, pad_len), 'constant')\n",
    "\n",
    "        return toks"
   ]
  },
  {
   "cell_type": "code",
   "execution_count": 53,
   "metadata": {},
   "outputs": [
    {
     "data": {
      "text/plain": [
       "'MRPSGTAGAALLALL'"
      ]
     },
     "execution_count": 53,
     "metadata": {},
     "output_type": "execute_result"
    }
   ],
   "source": [
    "amino_acid"
   ]
  },
  {
   "cell_type": "code",
   "execution_count": 56,
   "metadata": {},
   "outputs": [
    {
     "data": {
      "text/plain": [
       "array([248,   4,  22,  49,  19, 112,  64,  29,   7,   5,  24])"
      ]
     },
     "execution_count": 56,
     "metadata": {},
     "output_type": "execute_result"
    }
   ],
   "source": [
    "encode(seq = amino_acid)"
   ]
  },
  {
   "cell_type": "code",
   "execution_count": 52,
   "metadata": {},
   "outputs": [
    {
     "name": "stdout",
     "output_type": "stream",
     "text": [
      "MRPSGTAGAALLALL\n"
     ]
    },
    {
     "data": {
      "text/plain": [
       "array([248,   4,  22,  49, 100,   5,  64,   5,   7,   7,   5,   7,   7])"
      ]
     },
     "execution_count": 52,
     "metadata": {},
     "output_type": "execute_result"
    }
   ],
   "source": [
    "encode(seq = amino_acid)"
   ]
  }
 ],
 "metadata": {
  "kernelspec": {
   "display_name": "ppi-model-zoo-i22TXm07-py3.12",
   "language": "python",
   "name": "python3"
  },
  "language_info": {
   "codemirror_mode": {
    "name": "ipython",
    "version": 3
   },
   "file_extension": ".py",
   "mimetype": "text/x-python",
   "name": "python",
   "nbconvert_exporter": "python",
   "pygments_lexer": "ipython3",
   "version": "3.12.2"
  }
 },
 "nbformat": 4,
 "nbformat_minor": 2
}
